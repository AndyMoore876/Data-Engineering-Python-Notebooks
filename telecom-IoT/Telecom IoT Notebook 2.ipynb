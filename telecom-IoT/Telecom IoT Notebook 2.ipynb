{
 "cells": [
  {
   "cell_type": "code",
   "execution_count": 0,
   "metadata": {
    "application/vnd.databricks.v1+cell": {
     "cellMetadata": {
      "byteLimit": 2048000,
      "rowLimit": 10000
     },
     "inputWidgets": {},
     "nuid": "28def7e5-c94a-4a33-ba02-864a52be089e",
     "showTitle": false,
     "tableResultSettingsMap": {},
     "title": ""
    }
   },
   "outputs": [],
   "source": [
    "%python\n",
    "# Set up and connect to Azure Data Lake Store Gen2\n",
    "\n",
    "access_key = dbutils.widgets.get(\"access_key\")\n",
    "storage_account = dbutils.widgets.get(\"storage_account\")\n",
    "input_container_name = dbutils.widgets.get(\"input_container_name\")\n",
    "crm_input_path = dbutils.widgets.get(\"crm_input_path\")\n",
    "\n",
    "spark.conf.set(f\"fs.azure.account.key.{storage_account}.dfs.core.windows.net\", access_key)\n",
    "\n",
    "file_path_crm = f\"abfss://{input_container_name}@{storage_account}.dfs.core.windows.net/{crm_input_path}\"\n",
    "\n",
    "# Read the data from Azure Data Lake Store Gen2 \n",
    "crm_df = spark.read.format(\"delta\").load(file_path_crm)"
   ]
  },
  {
   "cell_type": "code",
   "execution_count": 0,
   "metadata": {
    "application/vnd.databricks.v1+cell": {
     "cellMetadata": {
      "byteLimit": 2048000,
      "rowLimit": 10000
     },
     "inputWidgets": {},
     "nuid": "18f9f304-ee92-4f5c-a0a6-510446278349",
     "showTitle": false,
     "tableResultSettingsMap": {},
     "title": ""
    }
   },
   "outputs": [],
   "source": [
    "#group the dataset by revenue_segment and aggregate total revenue and number of customers\n",
    "from pyspark.sql.functions import round\n",
    "\n",
    "revenue_segments = crm_df.groupBy(\"revenue_segment\").agg({\"total_revenue\" : \"sum\", \"msisdn\" : \"count\"})\n",
    "revenue_segments = revenue_segments.withColumnRenamed(\"sum(total_revenue)\", \"total_revenue\").withColumnRenamed(\"count(msisdn)\", \"no_of_Customers\")\n",
    "revenue_segments = revenue_segments.withColumn(\"total_revenue\", round(\"total_revenue\", 2))"
   ]
  },
  {
   "cell_type": "code",
   "execution_count": 0,
   "metadata": {
    "application/vnd.databricks.v1+cell": {
     "cellMetadata": {
      "byteLimit": 2048000,
      "rowLimit": 10000
     },
     "inputWidgets": {},
     "nuid": "49eb2092-013c-4173-8e35-592621dee268",
     "showTitle": false,
     "tableResultSettingsMap": {},
     "title": ""
    }
   },
   "outputs": [],
   "source": [
    "#group the dataset by iot_usage_tier and aggregate total revenue and number of customers\n",
    "iot_usage_tier = crm_df.groupBy(\"iot_usage_segment\").agg({\"total_revenue\":\"sum\",\"msisdn\" : \"count\"})\n",
    "iot_usage_tier = iot_usage_tier.withColumnRenamed(\"sum(total_revenue)\", \"total_revenue\").withColumnRenamed(\"count(msisdn)\", \"no_of_customers\")\n",
    "iot_usage_tier = iot_usage_tier.withColumn(\"total_revenue\", round(\"total_revenue\", 2))\n"
   ]
  },
  {
   "cell_type": "code",
   "execution_count": 0,
   "metadata": {
    "application/vnd.databricks.v1+cell": {
     "cellMetadata": {
      "byteLimit": 2048000,
      "rowLimit": 10000
     },
     "inputWidgets": {},
     "nuid": "06bd45ab-5986-420c-827c-51fc912a52d5",
     "showTitle": false,
     "tableResultSettingsMap": {},
     "title": ""
    }
   },
   "outputs": [
    {
     "output_type": "display_data",
     "data": {
      "text/html": [
       "<style scoped>\n",
       "  .table-result-container {\n",
       "    max-height: 300px;\n",
       "    overflow: auto;\n",
       "  }\n",
       "  table, th, td {\n",
       "    border: 1px solid black;\n",
       "    border-collapse: collapse;\n",
       "  }\n",
       "  th, td {\n",
       "    padding: 5px;\n",
       "  }\n",
       "  th {\n",
       "    text-align: left;\n",
       "  }\n",
       "</style><div class='table-result-container'><table class='table-result'><thead style='background-color: white'><tr><th>iot_usage_segment</th><th>total_revenue</th><th>no_of_customers</th></tr></thead><tbody><tr><td>Heavy Usage</td><td>1.598659269E7</td><td>103287</td></tr><tr><td>Minimal Usage</td><td>313356.42</td><td>6712</td></tr><tr><td>Moderate Usage</td><td>1086826.21</td><td>12022</td></tr></tbody></table></div>"
      ]
     },
     "metadata": {
      "application/vnd.databricks.v1+output": {
       "addedWidgets": {},
       "aggData": [],
       "aggError": "",
       "aggOverflow": false,
       "aggSchema": [],
       "aggSeriesLimitReached": false,
       "aggType": "",
       "arguments": {},
       "columnCustomDisplayInfos": {},
       "data": [
        [
         "Heavy Usage",
         1.598659269E7,
         103287
        ],
        [
         "Minimal Usage",
         313356.42,
         6712
        ],
        [
         "Moderate Usage",
         1086826.21,
         12022
        ]
       ],
       "datasetInfos": [],
       "dbfsResultPath": null,
       "isJsonSchema": true,
       "metadata": {},
       "overflow": false,
       "plotOptions": {
        "customPlotOptions": {},
        "displayType": "table",
        "pivotAggregation": null,
        "pivotColumns": null,
        "xColumns": null,
        "yColumns": null
       },
       "removedWidgets": [],
       "schema": [
        {
         "metadata": "{}",
         "name": "iot_usage_segment",
         "type": "\"string\""
        },
        {
         "metadata": "{}",
         "name": "total_revenue",
         "type": "\"double\""
        },
        {
         "metadata": "{}",
         "name": "no_of_customers",
         "type": "\"long\""
        }
       ],
       "type": "table"
      }
     },
     "output_type": "display_data"
    }
   ],
   "source": []
  },
  {
   "cell_type": "code",
   "execution_count": 0,
   "metadata": {
    "application/vnd.databricks.v1+cell": {
     "cellMetadata": {
      "byteLimit": 2048000,
      "rowLimit": 10000
     },
     "inputWidgets": {},
     "nuid": "0fa1e04e-f5bc-4087-aae6-ab857e14f446",
     "showTitle": false,
     "tableResultSettingsMap": {},
     "title": ""
    }
   },
   "outputs": [],
   "source": [
    "output_container_name = dbutils.widgets.get(\"output_container_name\")\n",
    "\n",
    "revenue_segments.write.format(\"delta\").mode(\"overwrite\").save(f\"abfss://{output_container_name}@{storage_account}.dfs.core.windows.net/telecom_iot/revenue_segments\")\n",
    "iot_usage_tier.write.format(\"delta\").mode(\"overwrite\").save(f\"abfss://{output_container_name}@{storage_account}.dfs.core.windows.net/telecom_iot/iot_usage_tier\")"
   ]
  }
 ],
 "metadata": {
  "application/vnd.databricks.v1+notebook": {
   "computePreferences": null,
   "dashboards": [],
   "environmentMetadata": {
    "base_environment": "",
    "environment_version": "2"
   },
   "language": "python",
   "notebookMetadata": {
    "pythonIndentUnit": 4
   },
   "notebookName": "Telecom IoT Notebook 2",
   "widgets": {}
  },
  "language_info": {
   "name": "python"
  }
 },
 "nbformat": 4,
 "nbformat_minor": 0
}
