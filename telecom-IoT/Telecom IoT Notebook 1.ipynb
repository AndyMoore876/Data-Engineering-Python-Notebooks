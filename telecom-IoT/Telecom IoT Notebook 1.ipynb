{
 "cells": [
  {
   "cell_type": "code",
   "execution_count": 0,
   "metadata": {
    "application/vnd.databricks.v1+cell": {
     "cellMetadata": {
      "byteLimit": 2048000,
      "rowLimit": 10000
     },
     "inputWidgets": {},
     "nuid": "d8ed153c-a097-4edb-8d3d-e1c2a4c953b5",
     "showTitle": false,
     "tableResultSettingsMap": {},
     "title": ""
    }
   },
   "outputs": [],
   "source": [
    "%python\n",
    "# Set up and connect to Azure Data Lake Store Gen2\n",
    "\n",
    "access_key = dbutils.widgets.get(\"access_key\")\n",
    "storage_account = dbutils.widgets.get(\"storage_account\")\n",
    "input_container_name = dbutils.widgets.get(\"input_container_name\")\n",
    "devices_input_path = dbutils.widgets.get(\"devices_input_path\")\n",
    "revenue_input_path = dbutils.widgets.get(\"revenue_input_path\")\n",
    "crm_input_path = dbutils.widgets.get(\"crm_input_path\")\n",
    "\n",
    "#contruct the connection string and the filepath based on the input parameters\n",
    "spark.conf.set(f\"fs.azure.account.key.{storage_account}.dfs.core.windows.net\", access_key)\n",
    "\n",
    "file_path_crm = f\"abfss://{input_container_name}@{storage_account}.dfs.core.windows.net/{crm_input_path}\"\n",
    "file_path_devices = f\"abfss://{input_container_name}@{storage_account}.dfs.core.windows.net/{devices_input_path}\"\n",
    "file_path_revenue = f\"abfss://{input_container_name}@{storage_account}.dfs.core.windows.net/{revenue_input_path}\"\n",
    "\n",
    "# Read the data from Azure Data Lake Store Gen2 and convert to pandas dataframe from Spark\n",
    "crm_df = spark.read.format(\"csv\").option(\"header\", \"true\").load(file_path_crm)\n",
    "devices_df = spark.read.format(\"csv\").option(\"header\", \"true\").load(file_path_devices)\n",
    "revenue_df = spark.read.format(\"csv\").option(\"header\", \"true\").load(file_path_revenue)"
   ]
  },
  {
   "cell_type": "code",
   "execution_count": 0,
   "metadata": {
    "application/vnd.databricks.v1+cell": {
     "cellMetadata": {
      "byteLimit": 2048000,
      "rowLimit": 10000
     },
     "inputWidgets": {},
     "nuid": "c905adf8-b90a-4cf5-bc43-5f654ac109d4",
     "showTitle": false,
     "tableResultSettingsMap": {},
     "title": ""
    }
   },
   "outputs": [
    {
     "output_type": "stream",
     "name": "stdout",
     "output_type": "stream",
     "text": [
      "root\n |-- msisdn: string (nullable = true)\n |-- gender: string (nullable = true)\n |-- year_of_birth: string (nullable = true)\n |-- system_status: string (nullable = true)\n |-- mobile_type: string (nullable = true)\n |-- value_segment: string (nullable = true)\n\nroot\n |-- msisdn: string (nullable = true)\n |-- imei_tac: string (nullable = true)\n |-- brand_name: string (nullable = true)\n |-- model_name: string (nullable = true)\n |-- os_name: string (nullable = true)\n |-- os_vendor: string (nullable = true)\n\nroot\n |-- msisdn: string (nullable = true)\n |-- week_number: string (nullable = true)\n |-- revenue_usd: string (nullable = true)\n\n"
     ]
    }
   ],
   "source": [
    "crm_df.printSchema()\n",
    "devices_df.printSchema()\n",
    "revenue_df.printSchema()"
   ]
  },
  {
   "cell_type": "code",
   "execution_count": 0,
   "metadata": {
    "application/vnd.databricks.v1+cell": {
     "cellMetadata": {
      "byteLimit": 2048000,
      "rowLimit": 10000
     },
     "inputWidgets": {},
     "nuid": "d8d4570a-0aa8-472c-8efa-05b7d843da17",
     "showTitle": false,
     "tableResultSettingsMap": {},
     "title": ""
    }
   },
   "outputs": [],
   "source": [
    "#update the datatypes of the columns with mismatched data types\n",
    "from pyspark.sql.functions import col, lower, when\n",
    "\n",
    "crm_df =  crm_df.withColumn(\"year_of_birth\", col(\"year_of_birth\").cast(\"int\"))\n",
    "crm_df = crm_df.withColumn(\"gender\", lower(col(\"gender\")))\n",
    "revenue_df = revenue_df.withColumn(\"revenue_usd\", col(\"revenue_usd\").cast(\"double\"))\n",
    "revenue_df = revenue_df.withColumn(\"week_number\", col(\"week_number\").cast(\"int\"))"
   ]
  },
  {
   "cell_type": "code",
   "execution_count": 0,
   "metadata": {
    "application/vnd.databricks.v1+cell": {
     "cellMetadata": {
      "byteLimit": 2048000,
      "rowLimit": 10000
     },
     "inputWidgets": {},
     "nuid": "6c29d627-a7b8-4d5f-a7d9-fbd30bbcafdb",
     "showTitle": false,
     "tableResultSettingsMap": {},
     "title": ""
    }
   },
   "outputs": [],
   "source": [
    "#replace null genders with not available tag\n",
    "crm_df = crm_df.fillna({\"gender\":\"not available\"})"
   ]
  },
  {
   "cell_type": "code",
   "execution_count": 0,
   "metadata": {
    "application/vnd.databricks.v1+cell": {
     "cellMetadata": {
      "byteLimit": 2048000,
      "rowLimit": 10000
     },
     "inputWidgets": {},
     "nuid": "5f80f9b3-4353-4cb3-873e-29e641c80c04",
     "showTitle": false,
     "tableResultSettingsMap": {},
     "title": ""
    }
   },
   "outputs": [],
   "source": [
    "#clean the crm_df of remaining null values and any duplicates.\n",
    "\n",
    "crm_df = crm_df.dropDuplicates()\n",
    "crm_df = crm_df.dropna()\n",
    "# crm_df = crm_df.filter(col(\"gender\").isin([\"male\", \"female\", \"not available\"]))\n",
    "# display(crm_df.groupBy(\"gender\").count())"
   ]
  },
  {
   "cell_type": "code",
   "execution_count": 0,
   "metadata": {
    "application/vnd.databricks.v1+cell": {
     "cellMetadata": {
      "byteLimit": 2048000,
      "rowLimit": 10000
     },
     "inputWidgets": {},
     "nuid": "0e0b973f-8124-48c0-8d4d-601a10463a96",
     "showTitle": false,
     "tableResultSettingsMap": {},
     "title": ""
    }
   },
   "outputs": [],
   "source": [
    "#drop duplicate rows and missing values from devices and revenue\n",
    "devices_df = devices_df.dropDuplicates()\n",
    "devices_df = devices_df.dropna()\n",
    "\n",
    "revenue_df = revenue_df.dropDuplicates()\n",
    "revenue_df = revenue_df.dropna()\n"
   ]
  },
  {
   "cell_type": "code",
   "execution_count": 0,
   "metadata": {
    "application/vnd.databricks.v1+cell": {
     "cellMetadata": {
      "byteLimit": 2048000,
      "rowLimit": 10000
     },
     "inputWidgets": {},
     "nuid": "c0c4bd4b-9f9e-4198-93a1-3201cac9378b",
     "showTitle": false,
     "tableResultSettingsMap": {},
     "title": ""
    }
   },
   "outputs": [],
   "source": [
    "#sum the revenue by customer and count the weeks occurences before segregating them into segments\n",
    "\n",
    "revenue_by_cus = revenue_df.groupBy(\"msisdn\").agg({\"revenue_usd\":\"sum\", \"week_number\":\"count\"}).withColumnRenamed(\"sum(revenue_usd)\",\"total_revenue\").withColumnRenamed(\"count(week_number)\",\"weeks_count\")\n",
    "\n",
    "revenue_by_cus = revenue_by_cus.withColumn(\"revenue_segment\", \n",
    "                                            when(col(\"total_revenue\") >= 150,\"High Revenue\")\n",
    "                                            .when(col(\"total_revenue\") >= 50, \"Medium Revenue\")\n",
    "                                            .when(col(\"total_revenue\") >0, \"Low Revenue\")\n",
    "                                            .otherwise(\"No Revenue\"))\n",
    "\n",
    "\n",
    "revenue_by_cus = revenue_by_cus.withColumn(\"iot_usage_segment\", \n",
    "                                            when(col(\"weeks_count\") >= 10,\"Heavy Usage\")\n",
    "                                            .when(col(\"weeks_count\") >= 6, \"Moderate Usage\")\n",
    "                                            .when(col(\"weeks_count\") >0, \"Minimal Usage\"))"
   ]
  },
  {
   "cell_type": "code",
   "execution_count": 0,
   "metadata": {
    "application/vnd.databricks.v1+cell": {
     "cellMetadata": {
      "byteLimit": 2048000,
      "rowLimit": 10000
     },
     "inputWidgets": {},
     "nuid": "644204e7-8b8f-42ba-a486-93d7cd529ee3",
     "showTitle": false,
     "tableResultSettingsMap": {},
     "title": ""
    }
   },
   "outputs": [
    {
     "output_type": "display_data",
     "data": {
      "text/html": [
       "<style scoped>\n",
       "  .table-result-container {\n",
       "    max-height: 300px;\n",
       "    overflow: auto;\n",
       "  }\n",
       "  table, th, td {\n",
       "    border: 1px solid black;\n",
       "    border-collapse: collapse;\n",
       "  }\n",
       "  th, td {\n",
       "    padding: 5px;\n",
       "  }\n",
       "  th {\n",
       "    text-align: left;\n",
       "  }\n",
       "</style><div class='table-result-container'><table class='table-result'><thead style='background-color: white'><tr><th>summary</th><th>msisdn</th><th>gender</th><th>year_of_birth</th><th>system_status</th><th>mobile_type</th><th>value_segment</th><th>total_revenue</th><th>weeks_count</th><th>revenue_segment</th><th>iot_usage_segment</th></tr></thead><tbody><tr><td>count</td><td>122021</td><td>122021</td><td>122021</td><td>122021</td><td>122021</td><td>122021</td><td>122021</td><td>122021</td><td>122021</td><td>122021</td></tr><tr><td>mean</td><td>null</td><td>null</td><td>1979.38641709214</td><td>null</td><td>null</td><td>null</td><td>142.4900290319377</td><td>12.260709222183067</td><td>null</td><td>null</td></tr><tr><td>stddev</td><td>null</td><td>null</td><td>11.260475298477388</td><td>null</td><td>null</td><td>null</td><td>40.684709323018524</td><td>2.8856850972988917</td><td>null</td><td>null</td></tr><tr><td>min</td><td>00000b6bff59445804c19425bf61971a</td><td>.</td><td>1900</td><td>ACTIVE</td><td>Postpaid</td><td>Tier_3</td><td>2.881891544877948</td><td>1</td><td>High Revenue</td><td>Heavy Usage</td></tr><tr><td>max</td><td>ffffeefeca215c9f82deedaa6d66f683</td><td>u</td><td>2017</td><td>SUSPEND</td><td>Prepaid</td><td>Tier_3</td><td>435.62988544386656</td><td>14</td><td>Medium Revenue</td><td>Moderate Usage</td></tr></tbody></table></div>"
      ]
     },
     "metadata": {
      "application/vnd.databricks.v1+output": {
       "addedWidgets": {},
       "aggData": [],
       "aggError": "",
       "aggOverflow": false,
       "aggSchema": [],
       "aggSeriesLimitReached": false,
       "aggType": "",
       "arguments": {},
       "columnCustomDisplayInfos": {},
       "data": [
        [
         "count",
         "122021",
         "122021",
         "122021",
         "122021",
         "122021",
         "122021",
         "122021",
         "122021",
         "122021",
         "122021"
        ],
        [
         "mean",
         null,
         null,
         "1979.38641709214",
         null,
         null,
         null,
         "142.4900290319377",
         "12.260709222183067",
         null,
         null
        ],
        [
         "stddev",
         null,
         null,
         "11.260475298477388",
         null,
         null,
         null,
         "40.684709323018524",
         "2.8856850972988917",
         null,
         null
        ],
        [
         "min",
         "00000b6bff59445804c19425bf61971a",
         ".",
         "1900",
         "ACTIVE",
         "Postpaid",
         "Tier_3",
         "2.881891544877948",
         "1",
         "High Revenue",
         "Heavy Usage"
        ],
        [
         "max",
         "ffffeefeca215c9f82deedaa6d66f683",
         "u",
         "2017",
         "SUSPEND",
         "Prepaid",
         "Tier_3",
         "435.62988544386656",
         "14",
         "Medium Revenue",
         "Moderate Usage"
        ]
       ],
       "datasetInfos": [],
       "dbfsResultPath": null,
       "isJsonSchema": true,
       "metadata": {},
       "overflow": false,
       "plotOptions": {
        "customPlotOptions": {},
        "displayType": "table",
        "pivotAggregation": null,
        "pivotColumns": null,
        "xColumns": null,
        "yColumns": null
       },
       "removedWidgets": [],
       "schema": [
        {
         "metadata": "{}",
         "name": "summary",
         "type": "\"string\""
        },
        {
         "metadata": "{}",
         "name": "msisdn",
         "type": "\"string\""
        },
        {
         "metadata": "{}",
         "name": "gender",
         "type": "\"string\""
        },
        {
         "metadata": "{}",
         "name": "year_of_birth",
         "type": "\"string\""
        },
        {
         "metadata": "{}",
         "name": "system_status",
         "type": "\"string\""
        },
        {
         "metadata": "{}",
         "name": "mobile_type",
         "type": "\"string\""
        },
        {
         "metadata": "{}",
         "name": "value_segment",
         "type": "\"string\""
        },
        {
         "metadata": "{}",
         "name": "total_revenue",
         "type": "\"string\""
        },
        {
         "metadata": "{}",
         "name": "weeks_count",
         "type": "\"string\""
        },
        {
         "metadata": "{}",
         "name": "revenue_segment",
         "type": "\"string\""
        },
        {
         "metadata": "{}",
         "name": "iot_usage_segment",
         "type": "\"string\""
        }
       ],
       "type": "table"
      }
     },
     "output_type": "display_data"
    }
   ],
   "source": [
    "display(crm_df.describe())"
   ]
  },
  {
   "cell_type": "code",
   "execution_count": 0,
   "metadata": {
    "application/vnd.databricks.v1+cell": {
     "cellMetadata": {
      "byteLimit": 2048000,
      "rowLimit": 10000
     },
     "inputWidgets": {},
     "nuid": "60f3501d-6d94-46b8-a43f-79cf0ecfaae1",
     "showTitle": false,
     "tableResultSettingsMap": {},
     "title": ""
    }
   },
   "outputs": [],
   "source": [
    "#join the revenue dataset with \n",
    "crm_df = crm_df.join(revenue_by_cus, \"msisdn\")"
   ]
  },
  {
   "cell_type": "code",
   "execution_count": 0,
   "metadata": {
    "application/vnd.databricks.v1+cell": {
     "cellMetadata": {
      "byteLimit": 2048000,
      "rowLimit": 10000
     },
     "inputWidgets": {},
     "nuid": "d45ca82a-9b54-4a69-aa75-05db9ef8a25c",
     "showTitle": false,
     "tableResultSettingsMap": {},
     "title": ""
    }
   },
   "outputs": [],
   "source": [
    "#write the curated crm dataset as a delta table to azure datalake\n",
    "output_container_name = dbutils.widgets.get(\"output_container_name\")\n",
    "output_path = dbutils.widgets.get(\"output_path\")\n",
    "\n",
    "crm_df.write.format(\"delta\").mode(\"overwrite\").save(f\"abfss://{output_container_name}@{storage_account}.dfs.core.windows.net/{output_path}\")"
   ]
  }
 ],
 "metadata": {
  "application/vnd.databricks.v1+notebook": {
   "computePreferences": null,
   "dashboards": [],
   "environmentMetadata": {
    "base_environment": "",
    "environment_version": "2"
   },
   "language": "python",
   "notebookMetadata": {
    "pythonIndentUnit": 4
   },
   "notebookName": "Telecom IoT Notebook 1",
   "widgets": {}
  },
  "language_info": {
   "name": "python"
  }
 },
 "nbformat": 4,
 "nbformat_minor": 0
}
