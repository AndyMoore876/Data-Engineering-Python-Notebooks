{
 "cells": [
  {
   "cell_type": "code",
   "execution_count": 0,
   "metadata": {
    "application/vnd.databricks.v1+cell": {
     "cellMetadata": {
      "byteLimit": 2048000,
      "rowLimit": 10000
     },
     "inputWidgets": {},
     "nuid": "b07cb6ca-4958-410c-8291-354d8dfe0c5e",
     "showTitle": false,
     "tableResultSettingsMap": {},
     "title": ""
    }
   },
   "outputs": [],
   "source": [
    "%python\n",
    "# Set up and connect to Azure Data Lake Store Gen2\n",
    "\n",
    "storage_account_name = dbutils.widgets.get(\"storage_account_name\")\n",
    "storage_access_key = dbutils.widgets.get(\"storage_access_key\")\n",
    "curated_container = dbutils.widgets.get(\"curated_container\")\n",
    "curated_data_path = dbutils.widgets.get(\"curated_data_path\")\n",
    "analytics_container = dbutils.widgets.get(\"analytics_container\")\n",
    "\n",
    "\n",
    "\n",
    "spark.conf.set(f\"fs.azure.account.key.{storage_account_name}.dfs.core.windows.net\", f\"{storage_access_key}\")\n",
    "\n",
    "file_path = f\"abfss://{curated_container}@datalake876.dfs.core.windows.net/{curated_data_path}\"\n",
    "\n",
    "# Read the data from Azure Data Lake Store Gen2 and convert to pandas dataframe from Spark\n",
    "df = spark.read.format(\"csv\").option(\"header\", \"true\").load(file_path)"
   ]
  },
  {
   "cell_type": "code",
   "execution_count": 0,
   "metadata": {
    "application/vnd.databricks.v1+cell": {
     "cellMetadata": {
      "byteLimit": 2048000,
      "rowLimit": 10000
     },
     "inputWidgets": {},
     "nuid": "7e824978-2a60-42f8-850c-561f587c94b1",
     "showTitle": false,
     "tableResultSettingsMap": {},
     "title": ""
    }
   },
   "outputs": [
    {
     "output_type": "stream",
     "name": "stdout",
     "output_type": "stream",
     "text": [
      "root\n |-- customerID: string (nullable = true)\n |-- gender: string (nullable = true)\n |-- SeniorCitizen: string (nullable = true)\n |-- Partner: string (nullable = true)\n |-- Dependents: string (nullable = true)\n |-- tenure: string (nullable = true)\n |-- PhoneService: string (nullable = true)\n |-- MultipleLines: string (nullable = true)\n |-- InternetService: string (nullable = true)\n |-- OnlineSecurity: string (nullable = true)\n |-- OnlineBackup: string (nullable = true)\n |-- DeviceProtection: string (nullable = true)\n |-- TechSupport: string (nullable = true)\n |-- StreamingTV: string (nullable = true)\n |-- StreamingMovies: string (nullable = true)\n |-- Contract: string (nullable = true)\n |-- PaperlessBilling: string (nullable = true)\n |-- PaymentMethod: string (nullable = true)\n |-- MonthlyCharges: string (nullable = true)\n |-- TotalCharges: string (nullable = true)\n |-- Churn: string (nullable = true)\n |-- ValueSegment: string (nullable = true)\n |-- TenureBucket: string (nullable = true)\n\n"
     ]
    }
   ],
   "source": [
    "# df.printSchema()"
   ]
  },
  {
   "cell_type": "code",
   "execution_count": 0,
   "metadata": {
    "application/vnd.databricks.v1+cell": {
     "cellMetadata": {
      "byteLimit": 2048000,
      "implicitDf": true,
      "rowLimit": 10000
     },
     "inputWidgets": {},
     "nuid": "6ba75bce-452f-4717-a372-1f2ec659e3cd",
     "showTitle": false,
     "tableResultSettingsMap": {},
     "title": ""
    }
   },
   "outputs": [],
   "source": [
    "#get the value segment statistics such as churn rate, average monthly charges, and averag total charges\n",
    "from pyspark.sql.functions import col, lower, when, round, avg\n",
    "\n",
    "value_segment_count = df.groupBy(\"ValueSegment\").count().withColumnRenamed(\"count\", \"Subcriber Count\")\n",
    "value_segment_churned_count = df.filter(col(\"Churn\") == True).groupBy(\"ValueSegment\").count().withColumnRenamed(\"count\", \"Churned Subscriber Count\")\n",
    "\n",
    "joined = value_segment_count.join(value_segment_churned_count, \"ValueSegment\")\n",
    "\n",
    "joined = joined.withColumn(\"Churn Rate\", when(col(\"Churned Subscriber Count\") == 0, 0).otherwise(round(col(\"Churned Subscriber Count\") / col(\"Subcriber Count\") * 100, 2)))\n",
    "\n",
    "average_total_charges = df.groupBy(\"ValueSegment\").agg(round(avg(col(\"TotalCharges\")), 2).alias(\"Average Total Charges\"))\n",
    "average_monthly_charges = df.groupBy(\"ValueSegment\").agg(round(avg(col(\"MonthlyCharges\")), 2).alias(\"Average Monthly Charges\"))\n",
    "senior_count = df.filter(col(\"SeniorCitizen\") == True).groupBy(\"ValueSegment\").count().withColumnRenamed(\"count\", \"Senior Citizen Count\")\n",
    "\n",
    "value_segment_agg_metrics = joined.join(average_total_charges, \"ValueSegment\").join(average_monthly_charges, \"ValueSegment\").join(senior_count, \"ValueSegment\")\n",
    "# print(\"*******************Churn Rate by Value Segment*******************\")\n",
    "# display(joined)\n",
    "# display(average_total_charges)\n",
    "# display(average_monthly_charges)\n",
    "# display(senior_count)"
   ]
  },
  {
   "cell_type": "code",
   "execution_count": 0,
   "metadata": {
    "application/vnd.databricks.v1+cell": {
     "cellMetadata": {
      "byteLimit": 2048000,
      "rowLimit": 10000
     },
     "inputWidgets": {},
     "nuid": "564c992b-a890-407f-8214-bf538e604230",
     "showTitle": false,
     "tableResultSettingsMap": {},
     "title": ""
    }
   },
   "outputs": [],
   "source": [
    "#aggregates the data by tenure bucket and calculates the churn rate and average monthly charges, and averag total charges\n",
    "\n",
    "tenure_bucket_count = df.groupBy(\"TenureBucket\").count().withColumnRenamed(\"count\", \"Subcriber Count\")\n",
    "tenure_bucket_churned_count = df.filter(col(\"Churn\") == True).groupBy(\"TenureBucket\").count().withColumnRenamed(\"count\", \"Churned Subscriber Count\")\n",
    "\n",
    "joined = tenure_bucket_count.join(tenure_bucket_churned_count, \"TenureBucket\")\n",
    "\n",
    "joined = joined.withColumn(\"Churn Rate\", when(col(\"Churned Subscriber Count\") == 0, 0).otherwise(round(col(\"Churned Subscriber Count\") / col(\"Subcriber Count\") * 100, 2)))\n",
    "\n",
    "average_total_charges = df.groupBy(\"TenureBucket\").agg(round(avg(col(\"TotalCharges\")), 2).alias(\"Average Total Charges\"))\n",
    "average_monthly_charges = df.groupBy(\"TenureBucket\").agg(round(avg(col(\"MonthlyCharges\")), 2).alias(\"Average Monthly Charges\"))\n",
    "senior_count = df.filter(col(\"SeniorCitizen\") == True).groupBy(\"TenureBucket\").count().withColumnRenamed(\"count\", \"Senior Citizen Count\")\n",
    "\n",
    "tenure_buckets_metrics = joined.join(average_total_charges, \"TenureBucket\").join(average_monthly_charges, \"TenureBucket\").join(senior_count, \"TenureBucket\").orderBy(\"TenureBucket\")\n",
    "# print(\"*******************Churn Rate by Tenure Bucket*******************\") \n",
    "# display(joined)"
   ]
  },
  {
   "cell_type": "code",
   "execution_count": 0,
   "metadata": {
    "application/vnd.databricks.v1+cell": {
     "cellMetadata": {
      "byteLimit": 2048000,
      "rowLimit": 10000
     },
     "inputWidgets": {},
     "nuid": "b78b1a74-f05a-429a-87e0-3ef8802f4403",
     "showTitle": false,
     "tableResultSettingsMap": {},
     "title": ""
    }
   },
   "outputs": [],
   "source": [
    "#write the two agg dataframes to Azure Data Lake Store Gen2\n",
    "value_segment_agg_metrics.write.format(\"csv\").mode(\"overwrite\").save(f\"abfss://{analytics_container}@{storage_account_name}.dfs.core.windows.net/Telco/telco_value_segments_agg_metrics.csv\", header = True)\n",
    "\n",
    "tenure_buckets_metrics.write.format(\"csv\").mode(\"overwrite\").save(f\"abfss://{analytics_container}@{storage_account_name}.dfs.core.windows.net/Telco/telco_tenure_buckets_agg_metrics.csv\", header = True)"
   ]
  }
 ],
 "metadata": {
  "application/vnd.databricks.v1+notebook": {
   "computePreferences": null,
   "dashboards": [],
   "environmentMetadata": {
    "base_environment": "",
    "environment_version": "2"
   },
   "language": "python",
   "notebookMetadata": {
    "mostRecentlyExecutedCommandWithImplicitDF": {
     "commandId": -1,
     "dataframes": [
      "_sqldf"
     ]
    },
    "pythonIndentUnit": 4
   },
   "notebookName": "Telco Notebook 2",
   "widgets": {}
  },
  "language_info": {
   "name": "python"
  }
 },
 "nbformat": 4,
 "nbformat_minor": 0
}